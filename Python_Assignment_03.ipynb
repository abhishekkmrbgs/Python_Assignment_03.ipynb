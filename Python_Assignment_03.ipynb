{
  "nbformat": 4,
  "nbformat_minor": 0,
  "metadata": {
    "colab": {
      "provenance": []
    },
    "kernelspec": {
      "name": "python3",
      "display_name": "Python 3"
    },
    "language_info": {
      "name": "python"
    }
  },
  "cells": [
    {
      "cell_type": "markdown",
      "source": [
        "1. Write a code to reverse a string.\n",
        "\n"
      ],
      "metadata": {
        "id": "qA6ti1DWG2Qh"
      }
    },
    {
      "cell_type": "code",
      "source": [
        "a = \"Hello World\"\n",
        "b = a[::-1]\n",
        "print(b)"
      ],
      "metadata": {
        "colab": {
          "base_uri": "https://localhost:8080/"
        },
        "id": "yCU7p6kJH-Gl",
        "outputId": "8dddb5fa-1854-456f-e7a8-d6023b9d29db"
      },
      "execution_count": null,
      "outputs": [
        {
          "output_type": "stream",
          "name": "stdout",
          "text": [
            "dlroW olleH\n"
          ]
        }
      ]
    },
    {
      "cell_type": "code",
      "source": [
        "a = \"Abhishek Kumar\"\n",
        "b = a[::-1]\n",
        "print(b)"
      ],
      "metadata": {
        "colab": {
          "base_uri": "https://localhost:8080/"
        },
        "id": "kc9NykHKH-hX",
        "outputId": "a3d02bc1-6862-48fd-dbfc-edb4baee3c80"
      },
      "execution_count": null,
      "outputs": [
        {
          "output_type": "stream",
          "name": "stdout",
          "text": [
            "ramuK kehsihbA\n"
          ]
        }
      ]
    },
    {
      "cell_type": "code",
      "source": [
        "a = [\"A\",\"B\",\"C\",\"D\"]\n",
        "b = a.reverse()\n",
        "print(a)"
      ],
      "metadata": {
        "colab": {
          "base_uri": "https://localhost:8080/"
        },
        "id": "EPn3RVn1G7Mo",
        "outputId": "712e43d0-8c80-4ae8-a1f1-f733a853f3d7"
      },
      "execution_count": null,
      "outputs": [
        {
          "output_type": "stream",
          "name": "stdout",
          "text": [
            "['D', 'C', 'B', 'A']\n"
          ]
        }
      ]
    },
    {
      "cell_type": "code",
      "source": [
        "a = [\"A\",\"b\",\"h\",\"i\",\"s\",\"h\",\"e\",\"k\"]\n",
        "b = a.reverse()\n",
        "print(a)"
      ],
      "metadata": {
        "colab": {
          "base_uri": "https://localhost:8080/"
        },
        "id": "lSIT3OWVHNvX",
        "outputId": "5d8a9ea2-c628-4e64-cc7e-f9851cf182f3"
      },
      "execution_count": null,
      "outputs": [
        {
          "output_type": "stream",
          "name": "stdout",
          "text": [
            "['k', 'e', 'h', 's', 'i', 'h', 'b', 'A']\n"
          ]
        }
      ]
    },
    {
      "cell_type": "markdown",
      "source": [
        "2. Write a code to count the number of vowels in a string."
      ],
      "metadata": {
        "id": "NuG7fgM-KI9v"
      }
    },
    {
      "cell_type": "code",
      "source": [
        "a = \"Hello World\"\n",
        "vowels = \"aeiouAEIOU\"\n",
        "count = sum(a.count(vowel) for vowel in vowels)\n",
        "print(count)"
      ],
      "metadata": {
        "colab": {
          "base_uri": "https://localhost:8080/"
        },
        "id": "lFCvPHUxHmxp",
        "outputId": "70929c35-94a7-4ef9-e400-6925bbf47719"
      },
      "execution_count": null,
      "outputs": [
        {
          "output_type": "stream",
          "name": "stdout",
          "text": [
            "3\n"
          ]
        }
      ]
    },
    {
      "cell_type": "code",
      "source": [
        "a = \"Abhishek Kumar\"\n",
        "vowels = \"aeiouAEIOU\"\n",
        "count = sum(a.count(vowel) for vowel in vowels)\n",
        "print(count)"
      ],
      "metadata": {
        "colab": {
          "base_uri": "https://localhost:8080/"
        },
        "id": "OFqq2cW1KW60",
        "outputId": "012d69c1-59b5-4e60-970e-62ec6aafb71e"
      },
      "execution_count": null,
      "outputs": [
        {
          "output_type": "stream",
          "name": "stdout",
          "text": [
            "5\n"
          ]
        }
      ]
    },
    {
      "cell_type": "markdown",
      "source": [
        "3. Write a code to check if a given string is a palindrome or not."
      ],
      "metadata": {
        "id": "sZVY7LH9q_12"
      }
    },
    {
      "cell_type": "code",
      "source": [
        "def is_palindrome(s):\n",
        "    # Remove spaces and convert the string to lowercase for case-insensitive comparison\n",
        "    s = s.replace(\" \", \"\").lower()\n",
        "\n",
        "    # Compare the original string with the reversed string\n",
        "    if s == s[::-1]:\n",
        "        return True\n",
        "    else:\n",
        "        return False\n",
        "\n",
        "# Input from user\n",
        "input_string = input(\"Enter a string: \")\n",
        "\n",
        "# Check if the string is a palindrome\n",
        "if is_palindrome(input_string):\n",
        "    print(\"The string is a palindrome!\")\n",
        "else:\n",
        "    print(\"The string is not a palindrome.\")\n"
      ],
      "metadata": {
        "colab": {
          "base_uri": "https://localhost:8080/"
        },
        "id": "kariu_EwrFRM",
        "outputId": "2be4bb91-844f-472f-afe1-ff44bb97d4b5"
      },
      "execution_count": null,
      "outputs": [
        {
          "output_type": "stream",
          "name": "stdout",
          "text": [
            "Enter a string: madam\n",
            "The string is a palindrome!\n"
          ]
        }
      ]
    },
    {
      "cell_type": "code",
      "source": [
        "def is_palindrome(s):\n",
        "    # Remove spaces and convert the string to lowercase for case-insensitive comparison\n",
        "    s = s.replace(\" \", \"\").lower()\n",
        "\n",
        "    # Compare the original string with the reversed string\n",
        "    if s == s[::-1]:\n",
        "        return True\n",
        "    else:\n",
        "        return False\n",
        "\n",
        "# Input from user\n",
        "input_string = input(\"Enter a string: \")\n",
        "\n",
        "# Check if the string is a palindrome\n",
        "if is_palindrome(input_string):\n",
        "    print(\"The string is a palindrome!\")\n",
        "else:\n",
        "    print(\"The string is not a palindrome.\")\n"
      ],
      "metadata": {
        "colab": {
          "base_uri": "https://localhost:8080/"
        },
        "id": "fQb6fR_HrFbF",
        "outputId": "ca768cf3-db06-4e7f-a353-5d230862a6d0"
      },
      "execution_count": null,
      "outputs": [
        {
          "output_type": "stream",
          "name": "stdout",
          "text": [
            "Enter a string: ABHISHEK\n",
            "The string is not a palindrome.\n"
          ]
        }
      ]
    },
    {
      "cell_type": "markdown",
      "source": [
        "4. Write a code to check if two given strings are anagrams of each other."
      ],
      "metadata": {
        "id": "NweN1jHDNqFv"
      }
    },
    {
      "cell_type": "code",
      "source": [
        "def are_anagrams(str1, str2):\n",
        "    # Remove spaces and convert to lowercase\n",
        "    str1 = ''.join(str1.lower().split())\n",
        "    str2 = ''.join(str2.lower().split())\n",
        "\n",
        "    # Sort and compare\n",
        "    return sorted(str1) == sorted(str2)\n",
        "\n",
        "# Test\n",
        "print(are_anagrams(\"Listen\", \"Silent\"))  # Output: True\n",
        "print(are_anagrams(\"Hello\", \"World\"))    # Output: False\n"
      ],
      "metadata": {
        "colab": {
          "base_uri": "https://localhost:8080/"
        },
        "id": "QmeLLNVFTGbs",
        "outputId": "2738cca3-2a44-4697-99bb-e1b4f6cb2c40"
      },
      "execution_count": null,
      "outputs": [
        {
          "output_type": "stream",
          "name": "stdout",
          "text": [
            "True\n",
            "False\n"
          ]
        }
      ]
    },
    {
      "cell_type": "markdown",
      "source": [
        "5. Write a code to find all occurrences of a given substring within another string."
      ],
      "metadata": {
        "id": "NYAh1NnmtE1u"
      }
    },
    {
      "cell_type": "code",
      "source": [
        "def find_all_occurrences(main_string, substring):\n",
        "    \"\"\"Find all occurrences of a substring in a string and return their starting indices.\"\"\"\n",
        "    indices = []\n",
        "    start = 0\n",
        "\n",
        "    while True:\n",
        "        # Find the next occurrence of the substring\n",
        "        start = main_string.find(substring, start)\n",
        "\n",
        "        # If no more occurrences are found, break the loop\n",
        "        if start == -1:\n",
        "            break\n",
        "\n",
        "        # Append the index of the current occurrence\n",
        "        indices.append(start)\n",
        "\n",
        "        # Move the start index forward to continue searching\n",
        "        start += 1  # Avoid overlapping matches\n",
        "\n",
        "    return indices\n",
        "\n",
        "\n",
        "# Example usage\n",
        "main_string = \"abracadabra\"\n",
        "substring = \"abra\"\n",
        "result = find_all_occurrences(main_string, substring)\n",
        "print(\"Occurrences at indices:\", result)\n",
        "\n"
      ],
      "metadata": {
        "colab": {
          "base_uri": "https://localhost:8080/"
        },
        "id": "ZUzFSq9uQli9",
        "outputId": "90b4d8a3-9138-4fd8-d130-3f546e0bbcce"
      },
      "execution_count": null,
      "outputs": [
        {
          "output_type": "stream",
          "name": "stdout",
          "text": [
            "Occurrences at indices: [0, 7]\n"
          ]
        }
      ]
    },
    {
      "cell_type": "code",
      "source": [
        "# Example usage\n",
        "main_string = \"mississippi\"\n",
        "substring = \"issi\"\n",
        "result = find_all_occurrences(main_string, substring)\n",
        "print(\"Occurrences at indices:\", result)\n"
      ],
      "metadata": {
        "colab": {
          "base_uri": "https://localhost:8080/"
        },
        "id": "QZg6z0yYQ-wb",
        "outputId": "7ec6146f-c4e8-4cb7-e1a6-fda361cafa01"
      },
      "execution_count": null,
      "outputs": [
        {
          "output_type": "stream",
          "name": "stdout",
          "text": [
            "Occurrences at indices: [1, 4]\n"
          ]
        }
      ]
    },
    {
      "cell_type": "markdown",
      "source": [
        "6. Write a code to perform basic string compression using the counts of repeated characters."
      ],
      "metadata": {
        "id": "rc9nEgjrRufT"
      }
    },
    {
      "cell_type": "code",
      "source": [
        "def compress_string(s):\n",
        "    # Initialize variables\n",
        "    compressed = []\n",
        "    count = 1\n",
        "\n",
        "    # Iterate through the string\n",
        "    for i in range(1, len(s)):\n",
        "        if s[i] == s[i - 1]:  # Check if current character is same as previous\n",
        "            count += 1  # Increment count\n",
        "        else:\n",
        "            # Append character and count to the result\n",
        "            compressed.append(s[i - 1] + str(count))\n",
        "            count = 1  # Reset count\n",
        "\n",
        "    # Append the last character and its count\n",
        "    compressed.append(s[-1] + str(count))\n",
        "\n",
        "    # Join the compressed parts and compare with the original\n",
        "    compressed_string = ''.join(compressed)\n",
        "    return compressed_string if len(compressed_string) < len(s) else s\n",
        "\n",
        "# Example Usage\n",
        "input_string = \"aaabbcc\"\n",
        "print(compress_string(input_string))  # Output: a3b2c2\n"
      ],
      "metadata": {
        "colab": {
          "base_uri": "https://localhost:8080/"
        },
        "id": "HKdVCxm9Rf1R",
        "outputId": "737b400e-7119-44b2-ce10-f057ac434136"
      },
      "execution_count": null,
      "outputs": [
        {
          "output_type": "stream",
          "name": "stdout",
          "text": [
            "a3b2c2\n"
          ]
        }
      ]
    },
    {
      "cell_type": "code",
      "source": [
        "def compress_string(s):\n",
        "    # Initialize variables\n",
        "    compressed = []\n",
        "    count = 1\n",
        "\n",
        "    # Iterate through the string\n",
        "    for i in range(1, len(s)):\n",
        "        if s[i] == s[i - 1]:  # Check if current character is same as previous\n",
        "            count += 1  # Increment count\n",
        "        else:\n",
        "            # Append character and count to the result\n",
        "            compressed.append(s[i - 1] + str(count))\n",
        "            count = 1  # Reset count\n",
        "\n",
        "    # Append the last character and its count\n",
        "    compressed.append(s[-1] + str(count))\n",
        "\n",
        "    # Join the compressed parts and compare with the original\n",
        "    compressed_string = ''.join(compressed)\n",
        "    return compressed_string if len(compressed_string) < len(s) else s\n",
        "\n",
        "# Example Usage\n",
        "input_string = \"aabcccccaaa\"\n",
        "print(compress_string(input_string))  # Output: a2b1c5a3\n"
      ],
      "metadata": {
        "colab": {
          "base_uri": "https://localhost:8080/"
        },
        "id": "5AunEt2yS8Ei",
        "outputId": "b09db54d-62cf-49ff-f738-4c050d9938f5"
      },
      "execution_count": null,
      "outputs": [
        {
          "output_type": "stream",
          "name": "stdout",
          "text": [
            "a2b1c5a3\n"
          ]
        }
      ]
    },
    {
      "cell_type": "markdown",
      "source": [
        "7. Write a code to determine if a string has all unique characters."
      ],
      "metadata": {
        "id": "z_SmYGhDT81a"
      }
    },
    {
      "cell_type": "code",
      "source": [
        "def has_unique_characters(s):\n",
        "    # Use a set to track seen characters\n",
        "    seen = set()\n",
        "    for char in s:\n",
        "        if char in seen:\n",
        "            return False\n",
        "        seen.add(char)\n",
        "    return True\n",
        "\n",
        "# Test the function\n",
        "string = \"hello\"\n",
        "print(f\"Does '{string}' have all unique characters? {has_unique_characters(string)}\")\n",
        "\n",
        "string = \"world\"\n",
        "print(f\"Does '{string}' have all unique characters? {has_unique_characters(string)}\")\n"
      ],
      "metadata": {
        "colab": {
          "base_uri": "https://localhost:8080/"
        },
        "id": "PFi6RrzrTw-K",
        "outputId": "1e5da5b0-7cf2-4447-e6bf-03ad5a7aa2e8"
      },
      "execution_count": null,
      "outputs": [
        {
          "output_type": "stream",
          "name": "stdout",
          "text": [
            "Does 'hello' have all unique characters? False\n",
            "Does 'world' have all unique characters? True\n"
          ]
        }
      ]
    },
    {
      "cell_type": "code",
      "source": [
        "def has_unique_characters(s):\n",
        "    return len(s) == len(set(s)) #A set automatically removes duplicates\n",
        "\n",
        "# Test the function\n",
        "string = \"abcde\"\n",
        "print(f\"Does '{string}' have all unique characters? {has_unique_characters(string)}\")  # Output: True\n",
        "\n",
        "string = \"hello\"\n",
        "print(f\"Does '{string}' have all unique characters? {has_unique_characters(string)}\")  # Output: False\n"
      ],
      "metadata": {
        "colab": {
          "base_uri": "https://localhost:8080/"
        },
        "id": "JJWwortzUzB5",
        "outputId": "9cfb3e31-6bc2-43e9-afb4-e2a9e28eb0b5"
      },
      "execution_count": null,
      "outputs": [
        {
          "output_type": "stream",
          "name": "stdout",
          "text": [
            "Does 'abcde' have all unique characters? True\n",
            "Does 'hello' have all unique characters? False\n"
          ]
        }
      ]
    },
    {
      "cell_type": "code",
      "source": [
        "def has_unique_characters(s):\n",
        "    return len(s) == len(set(s)) #A set automatically removes duplicates\n",
        "\n",
        "# Test the function\n",
        "string = \"Abhishek\"\n",
        "print(f\"Does '{string}' have all unique characters? {has_unique_characters(string)}\")  # Output: True\n",
        "\n",
        "string = \"Kumar\"\n",
        "print(f\"Does '{string}' have all unique characters? {has_unique_characters(string)}\")  # Output: False\n"
      ],
      "metadata": {
        "colab": {
          "base_uri": "https://localhost:8080/"
        },
        "id": "S3ybQW98Vme4",
        "outputId": "5f02e814-0379-4144-a173-14e91279048e"
      },
      "execution_count": null,
      "outputs": [
        {
          "output_type": "stream",
          "name": "stdout",
          "text": [
            "Does 'Abhishek' have all unique characters? False\n",
            "Does 'Kumar' have all unique characters? True\n"
          ]
        }
      ]
    },
    {
      "cell_type": "markdown",
      "source": [
        "8. write a code to convert a given string to uppercase or lowercase."
      ],
      "metadata": {
        "id": "xrw5JroXWpix"
      }
    },
    {
      "cell_type": "code",
      "source": [
        "a = \"Hello World\"\n",
        "b = a.upper()\n",
        "print(b)"
      ],
      "metadata": {
        "colab": {
          "base_uri": "https://localhost:8080/"
        },
        "id": "1FXldQPeVtkQ",
        "outputId": "6fc20dae-e691-45a4-8aeb-dbe687d288ae"
      },
      "execution_count": null,
      "outputs": [
        {
          "output_type": "stream",
          "name": "stdout",
          "text": [
            "HELLO WORLD\n"
          ]
        }
      ]
    },
    {
      "cell_type": "code",
      "source": [
        "b = \"HELLO WORLD\"\n",
        "c = b.lower()\n",
        "print(c)"
      ],
      "metadata": {
        "colab": {
          "base_uri": "https://localhost:8080/"
        },
        "id": "KaYUAAiCXDCc",
        "outputId": "fcb1b292-578d-41d4-de09-4a289fd5042b"
      },
      "execution_count": null,
      "outputs": [
        {
          "output_type": "stream",
          "name": "stdout",
          "text": [
            "hello world\n"
          ]
        }
      ]
    },
    {
      "cell_type": "code",
      "source": [
        "# Taking input string from the user\n",
        "input_string = input(\"Enter a string: \")\n",
        "\n",
        "# Asking user for choice\n",
        "choice = input(\"Enter 'U' for Uppercase or 'L' for Lowercase: \")\n",
        "\n",
        "# Converting the string based on the user's choice\n",
        "if choice == 'U' or choice == 'u':\n",
        "    print(input_string.upper())  # Convert to Uppercase\n",
        "elif choice == 'L' or choice == 'l':\n",
        "    print(input_string.lower())  # Convert to Lowercase\n",
        "else:\n",
        "    print(\"Invalid choice. Please enter 'U' or 'L'.\")\n"
      ],
      "metadata": {
        "colab": {
          "base_uri": "https://localhost:8080/"
        },
        "id": "Ts9NKppIXG27",
        "outputId": "e3d6d248-b8ca-41de-dc46-892998a0b433"
      },
      "execution_count": null,
      "outputs": [
        {
          "output_type": "stream",
          "name": "stdout",
          "text": [
            "Enter a string: abhishek kumar\n",
            "Enter 'U' for Uppercase or 'L' for Lowercase: U\n",
            "ABHISHEK KUMAR\n"
          ]
        }
      ]
    },
    {
      "cell_type": "markdown",
      "source": [
        "9. Write a code to count the number of words in a string."
      ],
      "metadata": {
        "id": "l-5TV95WYRZf"
      }
    },
    {
      "cell_type": "code",
      "source": [
        "a = \"Abhishek Kumar\"\n",
        "b = a.split()\n",
        "print(\"Number of words\", len(b))"
      ],
      "metadata": {
        "colab": {
          "base_uri": "https://localhost:8080/"
        },
        "id": "K2zbQ_MoXUP5",
        "outputId": "cd7b31be-aae3-4307-f9a4-e20d2f4afa2f"
      },
      "execution_count": null,
      "outputs": [
        {
          "output_type": "stream",
          "name": "stdout",
          "text": [
            "Number of words 2\n"
          ]
        }
      ]
    },
    {
      "cell_type": "markdown",
      "source": [
        "10. write a code to concatenate two strings without using the + operator."
      ],
      "metadata": {
        "id": "FTgI65pCaj0I"
      }
    },
    {
      "cell_type": "code",
      "source": [
        "def concatenate_strings(str1, str2):\n",
        "    return ''.join([str1, str2])\n",
        "\n",
        "# Example usage\n",
        "result = concatenate_strings(\"Hello\", \" World\")\n",
        "print(result)  # Output: Hello World\n"
      ],
      "metadata": {
        "colab": {
          "base_uri": "https://localhost:8080/"
        },
        "id": "2TuFaLjUZ_b5",
        "outputId": "89f013c9-ec7f-492e-c7b6-dfc82f4d8e6d"
      },
      "execution_count": null,
      "outputs": [
        {
          "output_type": "stream",
          "name": "stdout",
          "text": [
            "Hello World\n"
          ]
        }
      ]
    },
    {
      "cell_type": "code",
      "source": [
        "words = [\"Hello\", \"world\", \"from\", \"Python\"]\n",
        "result = ' '.join(words)\n",
        "print(result)  # Output: Hello world from Python\n"
      ],
      "metadata": {
        "colab": {
          "base_uri": "https://localhost:8080/"
        },
        "id": "tBwlzXc1a0bj",
        "outputId": "4810d36d-dde9-475e-c914-006c26188961"
      },
      "execution_count": null,
      "outputs": [
        {
          "output_type": "stream",
          "name": "stdout",
          "text": [
            "Hello world from Python\n"
          ]
        }
      ]
    },
    {
      "cell_type": "markdown",
      "source": [
        "11. Write a code to remove all occurrences of a specific element from a list."
      ],
      "metadata": {
        "id": "kApl0PyobqXt"
      }
    },
    {
      "cell_type": "code",
      "source": [
        "# Define the list\n",
        "my_list = [1, 2, 3, 4, 3, 5, 3]\n",
        "\n",
        "# Define the element you want to remove\n",
        "element_to_remove = 3\n",
        "\n",
        "# Use list comprehension to create a new list without the element\n",
        "my_list = [item for item in my_list if item != element_to_remove]\n",
        "\n",
        "# Print the modified list\n",
        "print(my_list)\n"
      ],
      "metadata": {
        "colab": {
          "base_uri": "https://localhost:8080/"
        },
        "id": "wO5PnFCvbjKS",
        "outputId": "af3acc2b-1fea-4ebd-8123-e4ae2fc8bd85"
      },
      "execution_count": null,
      "outputs": [
        {
          "output_type": "stream",
          "name": "stdout",
          "text": [
            "[1, 2, 4, 5]\n"
          ]
        }
      ]
    },
    {
      "cell_type": "code",
      "source": [
        "a = [1, 5.6, 7, 2, 1, 8.9, 11, 58, 1, 2, 5.6, 985]\n",
        "\n",
        "# Remove all occurrences of 1 and 2\n",
        "b = [list for list in a if list != 1 and list != 2]\n",
        "\n",
        "print(b)\n",
        "\n"
      ],
      "metadata": {
        "colab": {
          "base_uri": "https://localhost:8080/"
        },
        "id": "AhTjBMwRcasH",
        "outputId": "fe0ef1e8-ce76-442f-8831-c619f5bb812d"
      },
      "execution_count": null,
      "outputs": [
        {
          "output_type": "stream",
          "name": "stdout",
          "text": [
            "[5.6, 7, 8.9, 11, 58, 5.6, 985]\n"
          ]
        }
      ]
    },
    {
      "cell_type": "markdown",
      "source": [
        "12. Implement a code to find the second largest number in a given list of integers."
      ],
      "metadata": {
        "id": "clefYVoIcTvJ"
      }
    },
    {
      "cell_type": "code",
      "source": [
        "def second_largest(numbers):\n",
        "    numbers = list(set(numbers))  # Remove duplicates\n",
        "    numbers.sort()  # Sort the numbers in ascending order\n",
        "    if len(numbers) < 2:\n",
        "        return None  # Return None if there are fewer than two unique numbers\n",
        "    return numbers[-2]  # Return the second largest\n",
        "\n",
        "# Example usage\n",
        "numbers = [1, 2, 3, 4, 5, 6, 7, 8, 9]\n",
        "result = second_largest(numbers)\n",
        "print(f\"The second largest number is: {result}\")\n"
      ],
      "metadata": {
        "colab": {
          "base_uri": "https://localhost:8080/"
        },
        "id": "1zbdiRszcAm8",
        "outputId": "012c80f6-1dcc-47f9-a7be-2741784a55da"
      },
      "execution_count": null,
      "outputs": [
        {
          "output_type": "stream",
          "name": "stdout",
          "text": [
            "The second largest number is: 8\n"
          ]
        }
      ]
    },
    {
      "cell_type": "code",
      "source": [
        "a = [58 , 56 , 57, 1, 2, 1, 2, 999, 989, 98.9]\n",
        "b = list(set(a))\n",
        "b.sort()\n",
        "print(b[-2])"
      ],
      "metadata": {
        "colab": {
          "base_uri": "https://localhost:8080/"
        },
        "id": "XUXuCk-ke3NW",
        "outputId": "091b125f-c40a-483e-da06-8705cb74f47e"
      },
      "execution_count": null,
      "outputs": [
        {
          "output_type": "stream",
          "name": "stdout",
          "text": [
            "989\n"
          ]
        }
      ]
    },
    {
      "cell_type": "markdown",
      "source": [
        "13. Create a code to count the occurrences of each element in a list and return a dictionary with elements as\n",
        "keys and their counts as values."
      ],
      "metadata": {
        "id": "NQLYckrXfU0o"
      }
    },
    {
      "cell_type": "code",
      "source": [
        "def count_occurrences(input_list):\n",
        "    # Initialize an empty dictionary to store counts\n",
        "    element_count = {}\n",
        "\n",
        "    # Loop through the list\n",
        "    for element in input_list:\n",
        "        # If the element is already in the dictionary, increment its count\n",
        "        if element in element_count:\n",
        "            element_count[element] += 1\n",
        "        else:\n",
        "            # If not, add the element with a count of 1\n",
        "            element_count[element] = 1\n",
        "\n",
        "    return element_count\n",
        "\n",
        "# Example usage\n",
        "my_list = [1, 2, 2, 3, 4, 4, 4, 5]\n",
        "result = count_occurrences(my_list)\n",
        "print(result)\n"
      ],
      "metadata": {
        "id": "6v2_We_-fN1z",
        "colab": {
          "base_uri": "https://localhost:8080/"
        },
        "outputId": "2fa0d6af-95b4-4bab-afa5-f9070e2ce5f6"
      },
      "execution_count": null,
      "outputs": [
        {
          "output_type": "stream",
          "name": "stdout",
          "text": [
            "{1: 1, 2: 2, 3: 1, 4: 3, 5: 1}\n"
          ]
        }
      ]
    },
    {
      "cell_type": "markdown",
      "source": [
        "14. write a code to reverse a list in-place without using any built-in reverse functions."
      ],
      "metadata": {
        "id": "DFfDMEzKMKRI"
      }
    },
    {
      "cell_type": "code",
      "source": [
        "def reverse_list(lst):\n",
        "    start = 0\n",
        "    end = len(lst) - 1\n",
        "\n",
        "    while start < end:\n",
        "        # Swap the elements at start and end\n",
        "        lst[start], lst[end] = lst[end], lst[start]\n",
        "        # Move the pointers\n",
        "        start += 1\n",
        "        end -= 1\n",
        "\n",
        "# Example usage\n",
        "my_list = [1, 2, 3, 4, 5]\n",
        "reverse_list(my_list)\n",
        "print(my_list)  # Output: [5, 4, 3, 2, 1]\n"
      ],
      "metadata": {
        "colab": {
          "base_uri": "https://localhost:8080/"
        },
        "id": "6bl13-YXL4Nm",
        "outputId": "0ff16249-72da-4ecb-8058-a634b2dc633d"
      },
      "execution_count": null,
      "outputs": [
        {
          "output_type": "stream",
          "name": "stdout",
          "text": [
            "[5, 4, 3, 2, 1]\n"
          ]
        }
      ]
    },
    {
      "cell_type": "markdown",
      "source": [
        "15. Implement a code to find and remove duplicates from a list while preserving the original order of elements."
      ],
      "metadata": {
        "id": "iSehb8RYNRHQ"
      }
    },
    {
      "cell_type": "code",
      "source": [
        "def remove_duplicates_preserve_order(input_list):\n",
        "    seen = set()  # To keep track of elements already encountered\n",
        "    result = []\n",
        "    for item in input_list:\n",
        "        if item not in seen:\n",
        "            result.append(item)\n",
        "            seen.add(item)\n",
        "    return result\n",
        "\n",
        "# Example usage\n",
        "input_list = [1, 2, 2, 3, 4, 3, 5, 1]\n",
        "output_list = remove_duplicates_preserve_order(input_list)\n",
        "print(\"Original list:\", input_list)\n",
        "print(\"List after removing duplicates:\", output_list)\n"
      ],
      "metadata": {
        "colab": {
          "base_uri": "https://localhost:8080/"
        },
        "id": "419uk8lXNOsl",
        "outputId": "d9f002e4-e7e1-448a-e5e5-01ef805d9ec8"
      },
      "execution_count": null,
      "outputs": [
        {
          "output_type": "stream",
          "name": "stdout",
          "text": [
            "Original list: [1, 2, 2, 3, 4, 3, 5, 1]\n",
            "List after removing duplicates: [1, 2, 3, 4, 5]\n"
          ]
        }
      ]
    },
    {
      "cell_type": "markdown",
      "source": [
        "16. Create a code to check if a given list is sorted (either in ascending or descending order) or not."
      ],
      "metadata": {
        "id": "0kg3QfjkZQ8m"
      }
    },
    {
      "cell_type": "code",
      "source": [
        "def check_sorted(lst):\n",
        "    if lst == sorted(lst):\n",
        "        return \"The list is sorted in ascending order.\"\n",
        "    elif lst == sorted(lst, reverse=True):\n",
        "        return \"The list is sorted in descending order.\"\n",
        "    else:\n",
        "        return \"The list is not sorted.\"\n",
        "\n",
        "# Example usage\n",
        "sample_list = [5, 3, 2, 1]\n",
        "result = check_sorted(sample_list)\n",
        "print(result)\n"
      ],
      "metadata": {
        "colab": {
          "base_uri": "https://localhost:8080/"
        },
        "id": "Rqz0DNAOY4Rj",
        "outputId": "e126b665-f300-4c39-e8d2-70ea8a073cf3"
      },
      "execution_count": null,
      "outputs": [
        {
          "output_type": "stream",
          "name": "stdout",
          "text": [
            "The list is sorted in descending order.\n"
          ]
        }
      ]
    },
    {
      "cell_type": "code",
      "source": [
        "def check_sorted(lst):\n",
        "    if lst == sorted(lst):\n",
        "        return \"The list is sorted in ascending order.\"\n",
        "    elif lst == sorted(lst, reverse=True):\n",
        "        return \"The list is sorted in descending order.\"\n",
        "    else:\n",
        "        return \"The list is not sorted.\"\n",
        "\n",
        "# Example usage\n",
        "sample_list = [1, 2, 5, 6, 8]\n",
        "result = check_sorted(sample_list)\n",
        "print(result)\n"
      ],
      "metadata": {
        "colab": {
          "base_uri": "https://localhost:8080/"
        },
        "id": "n_ywloS-aAad",
        "outputId": "5ba5ec4e-76d4-4cce-f485-56b47f961750"
      },
      "execution_count": null,
      "outputs": [
        {
          "output_type": "stream",
          "name": "stdout",
          "text": [
            "The list is sorted in ascending order.\n"
          ]
        }
      ]
    },
    {
      "cell_type": "code",
      "source": [
        "def check_sorted(lst):\n",
        "    if lst == sorted(lst):\n",
        "        return \"The list is sorted in ascending order.\"\n",
        "    elif lst == sorted(lst, reverse=True):\n",
        "        return \"The list is sorted in descending order.\"\n",
        "    else:\n",
        "        return \"The list is not sorted.\"\n",
        "\n",
        "# Example usage\n",
        "sample_list = [50, 55, 98,10, 1, 13,99]\n",
        "result = check_sorted(sample_list)\n",
        "print(result)\n"
      ],
      "metadata": {
        "colab": {
          "base_uri": "https://localhost:8080/"
        },
        "id": "L4gglcHCaF3G",
        "outputId": "39cc7e52-20ec-4c8b-b631-1202ce1e28b2"
      },
      "execution_count": null,
      "outputs": [
        {
          "output_type": "stream",
          "name": "stdout",
          "text": [
            "The list is not sorted.\n"
          ]
        }
      ]
    },
    {
      "cell_type": "markdown",
      "source": [
        "17. Write a code to merge two sorted lists into a single sorted list."
      ],
      "metadata": {
        "id": "BkUXiVsxaWMi"
      }
    },
    {
      "cell_type": "code",
      "source": [
        "def merge_sorted_lists(list1, list2):\n",
        "    return sorted(list1 + list2)\n",
        "\n",
        "# Example usage:\n",
        "list1 = [1, 3, 5, 7]\n",
        "list2 = [2, 4, 6, 8]\n",
        "result = merge_sorted_lists(list1, list2)\n",
        "print(result)  # Output: [1, 2, 3, 4, 5, 6, 7, 8]\n"
      ],
      "metadata": {
        "colab": {
          "base_uri": "https://localhost:8080/"
        },
        "id": "334UTCyjaOnd",
        "outputId": "7f19804e-95e4-459f-a091-7a0519a6f18d"
      },
      "execution_count": null,
      "outputs": [
        {
          "output_type": "stream",
          "name": "stdout",
          "text": [
            "[1, 2, 3, 4, 5, 6, 7, 8]\n"
          ]
        }
      ]
    },
    {
      "cell_type": "markdown",
      "source": [
        "18. Implement a code to find the intersection of two given lists."
      ],
      "metadata": {
        "id": "IY5Rjsm4cnLO"
      }
    },
    {
      "cell_type": "code",
      "source": [
        "def find_intersection(list1, list2):\n",
        "    # Using set intersection to find common elements\n",
        "    intersection = list(set(list1) & set(list2))\n",
        "    return intersection\n",
        "\n",
        "# Example usage:\n",
        "list1 = [1, 2, 3, 4, 5]\n",
        "list2 = [4, 5, 6, 7, 8]\n",
        "\n",
        "result = find_intersection(list1, list2)\n",
        "print(\"Intersection:\", result)\n"
      ],
      "metadata": {
        "colab": {
          "base_uri": "https://localhost:8080/"
        },
        "id": "D-UH05ngdVnn",
        "outputId": "b0231478-ad21-4ea5-a0d9-091465f7af11"
      },
      "execution_count": null,
      "outputs": [
        {
          "output_type": "stream",
          "name": "stdout",
          "text": [
            "Intersection: [4, 5]\n"
          ]
        }
      ]
    },
    {
      "cell_type": "markdown",
      "source": [
        "19. Create a code to find the union of two lists without duplicates."
      ],
      "metadata": {
        "id": "ZTwGNSvi1xxM"
      }
    },
    {
      "cell_type": "code",
      "source": [
        "def union_of_lists(list1, list2):\n",
        "    # Use a set to automatically handle duplicates\n",
        "    return list(set(list1) | set(list2))\n",
        "\n",
        "# Example usage\n",
        "list1 = [1, 2, 3, 4]\n",
        "list2 = [3, 4, 5, 6]\n",
        "result = union_of_lists(list1, list2)\n",
        "print(\"Union without duplicates:\", result)\n"
      ],
      "metadata": {
        "id": "sxho_FRqddK8",
        "colab": {
          "base_uri": "https://localhost:8080/"
        },
        "outputId": "ffb23dc4-ab1b-4213-fbd0-841455585485"
      },
      "execution_count": null,
      "outputs": [
        {
          "output_type": "stream",
          "name": "stdout",
          "text": [
            "Union without duplicates: [1, 2, 3, 4, 5, 6]\n"
          ]
        }
      ]
    },
    {
      "cell_type": "markdown",
      "source": [
        "20. Write a code to shuffle a given list randomly without using any built-in shuffle functions."
      ],
      "metadata": {
        "id": "x_cqfiyI2Kju"
      }
    },
    {
      "cell_type": "code",
      "source": [
        "import random\n",
        "\n",
        "def shuffle_list(input_list):\n",
        "    # Copy the input list to avoid modifying the original\n",
        "    shuffled_list = input_list[:]\n",
        "    n = len(shuffled_list)\n",
        "    for i in range(n - 1, 0, -1):\n",
        "        # Generate a random index between 0 and i (inclusive)\n",
        "        j = random.randint(0, i)\n",
        "        # Swap the elements at indices i and j\n",
        "        shuffled_list[i], shuffled_list[j] = shuffled_list[j], shuffled_list[i]\n",
        "    return shuffled_list\n",
        "\n",
        "# Example usage\n",
        "original_list = [1, 2, 3, 4, 5]\n",
        "shuffled = shuffle_list(original_list)\n",
        "\n",
        "print(\"Original List:\", original_list)\n",
        "print(\"Shuffled List:\", shuffled)\n"
      ],
      "metadata": {
        "colab": {
          "base_uri": "https://localhost:8080/"
        },
        "id": "0voi11iQ3TFJ",
        "outputId": "9e87b44d-88fb-42dd-b411-aa0bf8a78a2c"
      },
      "execution_count": null,
      "outputs": [
        {
          "output_type": "stream",
          "name": "stdout",
          "text": [
            "Original List: [1, 2, 3, 4, 5]\n",
            "Shuffled List: [3, 5, 2, 1, 4]\n"
          ]
        }
      ]
    },
    {
      "cell_type": "markdown",
      "source": [
        "21. Write a code that takes two tuples as input and returns a new tuple containing elements that are\n",
        "common to both input tuples"
      ],
      "metadata": {
        "id": "W2fbvCNg34k6"
      }
    },
    {
      "cell_type": "code",
      "source": [
        "def common_elements(tuple1, tuple2):\n",
        "    # Use set intersection to find common elements and convert back to a tuple\n",
        "    return tuple(set(tuple1) & set(tuple2))\n",
        "\n",
        "# Example usage\n",
        "tuple_a = (1, 2, 3, 4, 5)\n",
        "tuple_b = (3, 4, 5, 6, 7)\n",
        "result = common_elements(tuple_a, tuple_b)\n",
        "print(\"Common elements:\", result)\n"
      ],
      "metadata": {
        "colab": {
          "base_uri": "https://localhost:8080/"
        },
        "id": "5g2MtHkO3v93",
        "outputId": "efe57eea-768e-4e15-a6b0-88eb67281bb1"
      },
      "execution_count": null,
      "outputs": [
        {
          "output_type": "stream",
          "name": "stdout",
          "text": [
            "Common elements: (3, 4, 5)\n"
          ]
        }
      ]
    },
    {
      "cell_type": "markdown",
      "source": [
        "22. Create a code that prompts the user to enter two sets of integers separated by commas. Then, print the\n",
        "intersection of these two sets"
      ],
      "metadata": {
        "id": "VMZaBe6K4TU6"
      }
    },
    {
      "cell_type": "code",
      "source": [
        "# Prompt the user to enter two sets of integers\n",
        "set1_input = input(\"Enter the first set of integers, separated by commas: \")\n",
        "set2_input = input(\"Enter the second set of integers, separated by commas: \")\n",
        "\n",
        "# Convert the inputs into sets of integers\n",
        "set1 = set(map(int, set1_input.split(',')))\n",
        "set2 = set(map(int, set2_input.split(',')))\n",
        "\n",
        "# Find the intersection of the two sets\n",
        "intersection = set1 & set2\n",
        "\n",
        "# Print the intersection\n",
        "print(\"The intersection of the two sets is:\", intersection)\n"
      ],
      "metadata": {
        "colab": {
          "base_uri": "https://localhost:8080/"
        },
        "id": "UNzoyKwY4HfZ",
        "outputId": "04793d92-ce93-4586-e476-c0ab348ea032"
      },
      "execution_count": null,
      "outputs": [
        {
          "output_type": "stream",
          "name": "stdout",
          "text": [
            "Enter the first set of integers, separated by commas: 1,2,3,4\n",
            "Enter the second set of integers, separated by commas: 3,4,5,6\n",
            "The intersection of the two sets is: {3, 4}\n"
          ]
        }
      ]
    },
    {
      "cell_type": "markdown",
      "source": [
        "23. Write a code to concatenate two tuples. The function should take two tuples as input and return a new\n",
        "tuple containing elements from both input tuples."
      ],
      "metadata": {
        "id": "gA4FKODw5a-G"
      }
    },
    {
      "cell_type": "code",
      "source": [
        "def concatenate_tuples(tuple1, tuple2):\n",
        "    # Concatenate the two tuples and return the result\n",
        "    return tuple1 + tuple2\n",
        "\n",
        "# Example usage:\n",
        "tuple1 = (1, 2, 3)\n",
        "tuple2 = (4, 5, 6)\n",
        "result = concatenate_tuples(tuple1, tuple2)\n",
        "\n",
        "print(\"Concatenated Tuple:\", result)\n"
      ],
      "metadata": {
        "colab": {
          "base_uri": "https://localhost:8080/"
        },
        "id": "DKqwirqb4vz4",
        "outputId": "32f91008-5804-4504-820c-10d1ba92aaee"
      },
      "execution_count": null,
      "outputs": [
        {
          "output_type": "stream",
          "name": "stdout",
          "text": [
            "Concatenated Tuple: (1, 2, 3, 4, 5, 6)\n"
          ]
        }
      ]
    },
    {
      "cell_type": "markdown",
      "source": [
        "24.  Develop a code that prompts the user to input two sets of strings. Then, print the elements that are\n",
        "present in the first set but not in the second set."
      ],
      "metadata": {
        "id": "4i8RC1L05wU0"
      }
    },
    {
      "cell_type": "code",
      "source": [
        "# Prompt the user to input two sets of strings\n",
        "set1_input = input(\"Enter the elements of the first set, separated by commas: \")\n",
        "set2_input = input(\"Enter the elements of the second set, separated by commas: \")\n",
        "\n",
        "# Convert the input strings to actual sets\n",
        "set1 = set(set1_input.split(','))\n",
        "set2 = set(set2_input.split(','))\n",
        "\n",
        "# Find the difference between the first set and the second set\n",
        "difference = set1 - set2\n",
        "\n",
        "# Print the elements that are in the first set but not in the second set\n",
        "print(\"Elements present in the first set but not in the second set:\")\n",
        "print(difference)\n"
      ],
      "metadata": {
        "colab": {
          "base_uri": "https://localhost:8080/"
        },
        "id": "90d6OkXK5rrv",
        "outputId": "93b34b47-6062-48a0-aa86-2bf2720f54ce"
      },
      "execution_count": null,
      "outputs": [
        {
          "output_type": "stream",
          "name": "stdout",
          "text": [
            "Enter the elements of the first set, separated by commas: apple, mango, cheery\n",
            "Enter the elements of the second set, separated by commas: banana\n",
            "Elements present in the first set but not in the second set:\n",
            "{'apple', ' cheery', ' mango'}\n"
          ]
        }
      ]
    },
    {
      "cell_type": "markdown",
      "source": [
        "25.  Create a code that takes a tuple and two integers as input. The function should return a new tuple\n",
        "containing elements from the original tuple within the specified range of indices."
      ],
      "metadata": {
        "id": "5WZdHe_07HNS"
      }
    },
    {
      "cell_type": "code",
      "source": [
        "def slice_tuple(original_tuple, start_index, end_index):\n",
        "    # Return a sliced tuple from the original tuple using the provided indices\n",
        "    return original_tuple[start_index:end_index]\n",
        "\n",
        "# Example usage:\n",
        "original_tuple = (10, 20, 30, 40, 50, 60, 70)\n",
        "start_index = 2\n",
        "end_index = 5\n",
        "\n",
        "result = slice_tuple(original_tuple, start_index, end_index)\n",
        "print(result)  # Output: (30, 40, 50)\n"
      ],
      "metadata": {
        "colab": {
          "base_uri": "https://localhost:8080/"
        },
        "id": "2t6-Pxx06OSd",
        "outputId": "de6db954-8eeb-4a4b-cca3-54348cfdd477"
      },
      "execution_count": null,
      "outputs": [
        {
          "output_type": "stream",
          "name": "stdout",
          "text": [
            "(30, 40, 50)\n"
          ]
        }
      ]
    },
    {
      "cell_type": "markdown",
      "source": [
        "26. Write a code that prompts the user to input two sets of characters. Then, print the union of these two sets."
      ],
      "metadata": {
        "id": "IIVD5gYP7iLw"
      }
    },
    {
      "cell_type": "code",
      "source": [
        "# Prompt user for input\n",
        "set1_input = input(\"Enter the first set of characters: \")\n",
        "set2_input = input(\"Enter the second set of characters: \")\n",
        "\n",
        "# Convert inputs to sets (automatically removes duplicates)\n",
        "set1 = set(set1_input)\n",
        "set2 = set(set2_input)\n",
        "\n",
        "# Compute the union of the two sets\n",
        "union_set = set1.union(set2)\n",
        "\n",
        "# Print the union\n",
        "print(\"The union of the two sets is:\", union_set)\n"
      ],
      "metadata": {
        "colab": {
          "base_uri": "https://localhost:8080/"
        },
        "id": "A4tRDxxY7g7k",
        "outputId": "ad7edc93-51bd-4d3b-9ec4-4e3ca049f2b4"
      },
      "execution_count": null,
      "outputs": [
        {
          "output_type": "stream",
          "name": "stdout",
          "text": [
            "Enter the first set of characters: hello\n",
            "Enter the second set of characters: world\n",
            "The union of the two sets is: {'h', 'd', 'w', 'o', 'r', 'e', 'l'}\n"
          ]
        }
      ]
    },
    {
      "cell_type": "markdown",
      "source": [
        "27. Develop a code that takes a tuple of integers as input. The function should return the maximum and\n",
        "minimum values from the tuple using tuple unpacking."
      ],
      "metadata": {
        "id": "e2GqGK2g8w6O"
      }
    },
    {
      "cell_type": "code",
      "source": [
        "def find_max_min(input_tuple):\n",
        "    # Unpack the tuple to find the max and min values\n",
        "    max_value, min_value = max(input_tuple), min(input_tuple)\n",
        "\n",
        "    return max_value, min_value\n",
        "\n",
        "# Example usage\n",
        "input_tuple = (3, 5, 1, 9, 4)\n",
        "max_val, min_val = find_max_min(input_tuple)\n",
        "print(\"Maximum Value:\", max_val)\n",
        "print(\"Minimum Value:\", min_val)\n"
      ],
      "metadata": {
        "colab": {
          "base_uri": "https://localhost:8080/"
        },
        "id": "uZDPP7uH77hV",
        "outputId": "e9fe78eb-48c7-4f03-b1f9-aa82d0d7b470"
      },
      "execution_count": null,
      "outputs": [
        {
          "output_type": "stream",
          "name": "stdout",
          "text": [
            "Maximum Value: 9\n",
            "Minimum Value: 1\n"
          ]
        }
      ]
    },
    {
      "cell_type": "markdown",
      "source": [
        "28. Create a code that defines two sets of integers. Then, print the union, intersection, and difference of these\n",
        "two sets."
      ],
      "metadata": {
        "id": "KwRFuyhE9FXB"
      }
    },
    {
      "cell_type": "code",
      "source": [
        "# Define two sets of integers\n",
        "set1 = {1, 2, 3, 4, 5}\n",
        "set2 = {4, 5, 6, 7, 8}\n",
        "\n",
        "# Union of set1 and set2\n",
        "union_set = set1 | set2\n",
        "print(\"Union:\", union_set)\n",
        "\n",
        "# Intersection of set1 and set2\n",
        "intersection_set = set1 & set2\n",
        "print(\"Intersection:\", intersection_set)\n",
        "\n",
        "# Difference of set1 and set2 (elements in set1 but not in set2)\n",
        "difference_set = set1 - set2\n",
        "print(\"Difference (set1 - set2):\", difference_set)\n",
        "\n",
        "# Difference of set2 and set1 (elements in set2 but not in set1)\n",
        "difference_set2 = set2 - set1\n",
        "print(\"Difference (set2 - set1):\", difference_set2)\n"
      ],
      "metadata": {
        "colab": {
          "base_uri": "https://localhost:8080/"
        },
        "id": "qeCo1ZmE8_TD",
        "outputId": "92996716-c782-4aec-ff30-7c190bed72b7"
      },
      "execution_count": null,
      "outputs": [
        {
          "output_type": "stream",
          "name": "stdout",
          "text": [
            "Union: {1, 2, 3, 4, 5, 6, 7, 8}\n",
            "Intersection: {4, 5}\n",
            "Difference (set1 - set2): {1, 2, 3}\n",
            "Difference (set2 - set1): {8, 6, 7}\n"
          ]
        }
      ]
    },
    {
      "cell_type": "markdown",
      "source": [
        "29.Write a code that takes a tuple and an element as input. The function should return the count of\n",
        "occurrences of the given element in the tuple."
      ],
      "metadata": {
        "id": "GquKIZL29mMW"
      }
    },
    {
      "cell_type": "code",
      "source": [
        "def count_occurrences(tup, element):\n",
        "    return tup.count(element)\n",
        "\n",
        "# Example usage\n",
        "my_tuple = (1, 2, 3, 1, 4, 1, 5)\n",
        "element = 1\n",
        "print(count_occurrences(my_tuple, element))  # Output: 3\n"
      ],
      "metadata": {
        "colab": {
          "base_uri": "https://localhost:8080/"
        },
        "id": "tgrK2iAl9sIC",
        "outputId": "c9278580-8703-44bd-bab4-2f1a5dd0391c"
      },
      "execution_count": null,
      "outputs": [
        {
          "output_type": "stream",
          "name": "stdout",
          "text": [
            "3\n"
          ]
        }
      ]
    },
    {
      "cell_type": "markdown",
      "source": [
        "30. Develop a code that prompts the user to input two sets of strings. Then, print the symmetric difference of\n",
        "these two sets."
      ],
      "metadata": {
        "id": "geGP_2IA9-62"
      }
    },
    {
      "cell_type": "code",
      "source": [
        "# Prompt the user to input two sets of strings\n",
        "set1_input = input(\"Enter the first set of strings (comma-separated): \")\n",
        "set2_input = input(\"Enter the second set of strings (comma-separated): \")\n",
        "\n",
        "# Convert the input strings into sets by splitting by commas and stripping whitespace\n",
        "set1 = set(set1_input.split(\",\"))\n",
        "set2 = set(set2_input.split(\",\"))\n",
        "\n",
        "# Find the symmetric difference between the two sets\n",
        "symmetric_diff = set1 ^ set2\n",
        "\n",
        "# Print the result\n",
        "print(\"Symmetric Difference:\", symmetric_diff)\n"
      ],
      "metadata": {
        "colab": {
          "base_uri": "https://localhost:8080/"
        },
        "id": "f2AueXKI99a7",
        "outputId": "40677ece-d734-4fa5-f1f8-f7e7bd253b40"
      },
      "execution_count": null,
      "outputs": [
        {
          "output_type": "stream",
          "name": "stdout",
          "text": [
            "Enter the first set of strings (comma-separated): 1, 2, 3, 4\n",
            "Enter the second set of strings (comma-separated): 3, 4, 5, 6\n",
            "Symmetric Difference: {' 2', ' 5', ' 6', '3', '1', ' 3'}\n"
          ]
        }
      ]
    },
    {
      "cell_type": "markdown",
      "source": [
        "31. Write a code that takes a list of words as input and returns a dictionary where the keys are unique words\n",
        "and the values are the frequencies of those words in the input list."
      ],
      "metadata": {
        "id": "PLOvCD0tEVVO"
      }
    },
    {
      "cell_type": "code",
      "source": [
        "def word_frequencies(words):\n",
        "    \"\"\"\n",
        "    Takes a list of words and returns a dictionary\n",
        "    with unique words as keys and their frequencies as values.\n",
        "\n",
        "    Args:\n",
        "        words (list): A list of words (strings).\n",
        "\n",
        "    Returns:\n",
        "        dict: A dictionary with word frequencies.\n",
        "    \"\"\"\n",
        "    frequency_dict = {}\n",
        "    for word in words:\n",
        "        frequency_dict[word] = frequency_dict.get(word, 0) + 1\n",
        "    return frequency_dict\n",
        "\n",
        "# Example usage\n",
        "word_list = [\"apple\", \"banana\", \"apple\", \"orange\", \"banana\", \"apple\"]\n",
        "frequencies = word_frequencies(word_list)\n",
        "print(frequencies)\n"
      ],
      "metadata": {
        "id": "gm7rfiEZSrSM",
        "colab": {
          "base_uri": "https://localhost:8080/"
        },
        "outputId": "96891718-86d9-4109-a92d-d053e914e9ad"
      },
      "execution_count": 1,
      "outputs": [
        {
          "output_type": "stream",
          "name": "stdout",
          "text": [
            "{'apple': 3, 'banana': 2, 'orange': 1}\n"
          ]
        }
      ]
    },
    {
      "cell_type": "markdown",
      "source": [
        "32. Write a code that takes two dictionaries as input and merges them into a single dictionary. If there are\n",
        "common keys, the values should be added together."
      ],
      "metadata": {
        "id": "jvqLWifMFY5s"
      }
    },
    {
      "cell_type": "code",
      "source": [
        "def merge_and_add_dicts(dict1, dict2):\n",
        "    \"\"\"\n",
        "    Merges two dictionaries. If a key is common, adds the values together.\n",
        "\n",
        "    Args:\n",
        "        dict1 (dict): The first dictionary.\n",
        "        dict2 (dict): The second dictionary.\n",
        "\n",
        "    Returns:\n",
        "        dict: The merged dictionary with summed values for common keys.\n",
        "    \"\"\"\n",
        "    merged_dict = dict1.copy()  # Start with a copy of the first dictionary\n",
        "\n",
        "    for key, value in dict2.items():\n",
        "        if key in merged_dict:\n",
        "            merged_dict[key] += value  # Add values for common keys\n",
        "        else:\n",
        "            merged_dict[key] = value  # Add new key-value pairs\n",
        "\n",
        "    return merged_dict\n",
        "\n",
        "# Example usage:\n",
        "dict1 = {'a': 10, 'b': 20, 'c': 30}\n",
        "dict2 = {'b': 15, 'c': 25, 'd': 35}\n",
        "\n",
        "result = merge_and_add_dicts(dict1, dict2)\n",
        "print(result)  # Output: {'a': 10, 'b': 35, 'c': 55, 'd': 35}\n"
      ],
      "metadata": {
        "colab": {
          "base_uri": "https://localhost:8080/"
        },
        "id": "MAqYjLWoElBX",
        "outputId": "98d7166c-f2fc-4525-b9c2-93aa1a1a7fec"
      },
      "execution_count": 2,
      "outputs": [
        {
          "output_type": "stream",
          "name": "stdout",
          "text": [
            "{'a': 10, 'b': 35, 'c': 55, 'd': 35}\n"
          ]
        }
      ]
    },
    {
      "cell_type": "markdown",
      "source": [
        "33. Write a code to access a value in a nested dictionary. The function should take the dictionary and a list of\n",
        "keys as input, and return the corresponding value. If any of the keys do not exist in the dictionary, the\n",
        "function should return None."
      ],
      "metadata": {
        "id": "M-bM8rCYGNcl"
      }
    },
    {
      "cell_type": "code",
      "source": [
        "def get_nested_value(data, keys):\n",
        "    \"\"\"\n",
        "    Access a value in a nested dictionary using a list of keys.\n",
        "\n",
        "    Parameters:\n",
        "    data (dict): The nested dictionary.\n",
        "    keys (list): A list of keys specifying the path to the value.\n",
        "\n",
        "    Returns:\n",
        "    The value if all keys exist, otherwise None.\n",
        "    \"\"\"\n",
        "    current = data\n",
        "    try:\n",
        "        for key in keys:\n",
        "            current = current[key]\n",
        "        return current\n",
        "    except (KeyError, TypeError):\n",
        "        return None\n",
        "\n",
        "# Example usage\n",
        "nested_dict = {\n",
        "    \"a\": {\n",
        "        \"b\": {\n",
        "            \"c\": \"value\"\n",
        "        }\n",
        "    }\n",
        "}\n",
        "\n",
        "keys = [\"a\", \"b\", \"c\"]\n",
        "print(get_nested_value(nested_dict, keys))  # Output: \"value\"\n",
        "\n",
        "keys = [\"a\", \"b\", \"x\"]\n",
        "print(get_nested_value(nested_dict, keys))  # Output: None\n"
      ],
      "metadata": {
        "colab": {
          "base_uri": "https://localhost:8080/"
        },
        "id": "YVSDrZvNGLF_",
        "outputId": "c49a0ab7-49f2-402c-dbeb-b7b00641f4e3"
      },
      "execution_count": 3,
      "outputs": [
        {
          "output_type": "stream",
          "name": "stdout",
          "text": [
            "value\n",
            "None\n"
          ]
        }
      ]
    },
    {
      "cell_type": "markdown",
      "source": [
        "34. Write a code that takes a dictionary as input and returns a sorted version of it based on the values. You\n",
        "can choose whether to sort in ascending or descending order."
      ],
      "metadata": {
        "id": "nJZp7bIqHe_m"
      }
    },
    {
      "cell_type": "code",
      "source": [
        "def sort_dict_by_value(input_dict, reverse=False):\n",
        "    # Sorting the dictionary by values\n",
        "    sorted_dict = dict(sorted(input_dict.items(), key=lambda item: item[1], reverse=reverse))\n",
        "    return sorted_dict\n",
        "\n",
        "# Example usage:\n",
        "input_dict = {'a': 3, 'b': 1, 'c': 2}\n",
        "sorted_dict_asc = sort_dict_by_value(input_dict, reverse=False)\n",
        "sorted_dict_desc = sort_dict_by_value(input_dict, reverse=True)\n",
        "\n",
        "print(\"Sorted in Ascending Order:\", sorted_dict_asc)\n",
        "print(\"Sorted in Descending Order:\", sorted_dict_desc)\n"
      ],
      "metadata": {
        "colab": {
          "base_uri": "https://localhost:8080/"
        },
        "id": "Pf_LBv2BHHGp",
        "outputId": "9b00d019-62e4-4c40-d86e-3e24e92e3f65"
      },
      "execution_count": 4,
      "outputs": [
        {
          "output_type": "stream",
          "name": "stdout",
          "text": [
            "Sorted in Ascending Order: {'b': 1, 'c': 2, 'a': 3}\n",
            "Sorted in Descending Order: {'a': 3, 'c': 2, 'b': 1}\n"
          ]
        }
      ]
    },
    {
      "cell_type": "markdown",
      "source": [
        "35.  Write a code that inverts a dictionary, swapping keys and values. Ensure that the inverted dictionary\n",
        "correctly handles cases where multiple keys have the same value by storing the keys as a list in the\n",
        "inverted dictionary."
      ],
      "metadata": {
        "id": "vslq7HVsIgzf"
      }
    },
    {
      "cell_type": "code",
      "source": [
        "def invert_dict(d):\n",
        "    inverted = {}\n",
        "    for key, value in d.items():\n",
        "        if value in inverted:\n",
        "            # If the value is already a key in inverted, append the current key to the list\n",
        "            inverted[value].append(key)\n",
        "        else:\n",
        "            # If the value is not in inverted, create a new list with the current key\n",
        "            inverted[value] = [key]\n",
        "    return inverted\n",
        "\n",
        "# Example usage\n",
        "original_dict = {'a': 1, 'b': 2, 'c': 1, 'd': 3}\n",
        "inverted_dict = invert_dict(original_dict)\n",
        "print(inverted_dict)\n"
      ],
      "metadata": {
        "colab": {
          "base_uri": "https://localhost:8080/"
        },
        "id": "_vkAQLTzIbKB",
        "outputId": "29d4b28a-ff3d-47ed-e8b1-70c6b748a6fc"
      },
      "execution_count": 5,
      "outputs": [
        {
          "output_type": "stream",
          "name": "stdout",
          "text": [
            "{1: ['a', 'c'], 2: ['b'], 3: ['d']}\n"
          ]
        }
      ]
    },
    {
      "cell_type": "code",
      "source": [],
      "metadata": {
        "id": "c2YhUwkuJb9s"
      },
      "execution_count": null,
      "outputs": []
    }
  ]
}